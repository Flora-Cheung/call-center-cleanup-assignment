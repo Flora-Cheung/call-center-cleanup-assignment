{
 "cells": [
  {
   "cell_type": "markdown",
   "id": "331a1c4f",
   "metadata": {},
   "source": [
    "# Call Center Cleanup\n",
    "\n",
    "For this assignment, we will be working with call center data. You can start working on the assignment after the first lesson on Exploratory Data Analysis. Make sure to read the whole assignment before starting anything! As you code along in the Jupyter notebook, you are asked to make note of the results of your analysis. Do so by clicking on the results box and adding your notes beside each question.\n",
    "\n",
    "## Business Issue and Understanding\n",
    "\n",
    "You are working for a company that has two call centers: the North Call Center and the South Call Center. The company is looking to possibly hire five additional reps to enhance customer experience. Your task is to explore how efficient the current reps are in each branch to determine which branch would benefit from additional assistance.\n",
    "\n",
    "### How the Call Center Works\n",
    "\n",
    "Call center representatives are assigned queues. When calls are assigned to a queue, the call is assigned to the next person in line in the queue. After a call is assigned to a representative, the amount of time between assignment and the call starting is divided into busy minutes and not ready minutes. If the call is incoming and a customer is waiting on the phone for a rep, the time is split into three categories: busy minutes, not ready minutes, and incoming call wait time. Once the rep has the customer on the phone, there might be during call wait time, where the call is put on hold while the rep gets an answer for the customer.\n",
    "\n",
    "### Notes about the Dataset\n",
    "\n",
    "If you haven't worked in a call center before, these notes might help you throughout your analysis.\n",
    "\n",
    "* The call purpose is tagged for each call.\n",
    "* The time of the call is tagged in 1 hour blocks starting at 9:00 AM and ending at 5:00 PM.\n",
    "* Calls are tagged as incoming or outgoing.\n",
    "* Reps are assigned to queues. When the reps are working, they take calls in the order of their queue.\n",
    "* A call that is dropped due to technical error or missed by the center because they have reached maximum capacity is a lost call.\n",
    "* An abandoned call is when the customer hangs up because they have been waiting for too long.\n",
    "* Busy Minutes: the amount of time after a call comes in or needs to go out where the assigned rep is not available because they are busy with other customers.\n",
    "* Not Ready Minutes: the amount of time after a call comes in or needs to go out where the assigned rep is not available because they are not ready (for example, getting water).\n",
    "* Incoming Wait Time - amount of time after assigned rep is available to take the call customer waits for representative to pick up a call. This is tracked in seconds.\n",
    "* During Call Wait Time - amount of time during call that customer has to wait for representative\n",
    "\n",
    "## Getting Started\n",
    "\n",
    "You have two CSVs at your disposal, `NorthCallCenter.csv` and `SouthCallCenter.csv`. Import the appropriate libraries and create two dataframes, one called `north_df` and one called `south_df`."
   ]
  },
  {
   "cell_type": "code",
   "execution_count": 5,
   "id": "f362436b",
   "metadata": {},
   "outputs": [],
   "source": [
    "# Import the appropriate libraries with aliases\n",
    "import numpy as np\n",
    "import pandas as pd\n",
    "import seaborn as sns\n",
    "import matplotlib.pyplot as plt\n",
    "# Create two new dataframes\n",
    "north_df = pd.read_csv(\"NorthCallCenter.csv\")\n",
    "south_df = pd.read_csv(\"SouthCallCenter.csv\")"
   ]
  },
  {
   "cell_type": "markdown",
   "id": "37f77cd4",
   "metadata": {},
   "source": [
    "<span style=\"background-color:orangered; color:orangered;\">- - - - - - - - - - - - - - - - - - - - - - - - - - - - - - - - - - - - - - - - - - - - - - - - - - - - - - - - - - - - - - - - - - - - - - - - - - - - - - - - - - - - - - - - -</span>"
   ]
  },
  {
   "cell_type": "markdown",
   "id": "b4d3484b",
   "metadata": {},
   "source": [
    "## Exploratory Data Analysis\n",
    "\n",
    "Time to do some EDA! In the process of learning more about the two datasets, answer the following questions. In the code blocks below enter the code used to solve the question.  At the end of the section record your answers by double clicking where asked."
   ]
  },
  {
   "cell_type": "markdown",
   "id": "76898991",
   "metadata": {},
   "source": [
    "#### EDA Question 1A:  How many reps are in the North branch?  "
   ]
  },
  {
   "cell_type": "code",
   "execution_count": 47,
   "id": "ce3eb5e4",
   "metadata": {},
   "outputs": [
    {
     "name": "stdout",
     "output_type": "stream",
     "text": [
      "9\n"
     ]
    }
   ],
   "source": [
    "#Code Used:\n",
    "north_df.head()\n",
    "countN = north_df['Rep ID'].drop_duplicates().size\n",
    "print(countN)"
   ]
  },
  {
   "cell_type": "markdown",
   "id": "2a9b34d8",
   "metadata": {},
   "source": [
    "#### EDA Question 1B:  How many reps are in the South branch?  "
   ]
  },
  {
   "cell_type": "code",
   "execution_count": 37,
   "id": "3c715bbf",
   "metadata": {},
   "outputs": [
    {
     "name": "stdout",
     "output_type": "stream",
     "text": [
      "11\n"
     ]
    }
   ],
   "source": [
    "#Code Used:\n",
    "south_df.head()\n",
    "countS = south_df['Rep ID'].drop_duplicates().size\n",
    "print(countS)"
   ]
  },
  {
   "cell_type": "markdown",
   "id": "a872f045",
   "metadata": {},
   "source": [
    "#### EDA Question 2A:  What is the average busy minutes, not ready minutes, incoming wait time, and during call wait time for the North branch? "
   ]
  },
  {
   "cell_type": "code",
   "execution_count": 45,
   "id": "3759305f",
   "metadata": {},
   "outputs": [
    {
     "name": "stdout",
     "output_type": "stream",
     "text": [
      "9.987755102040817 1.9142857142857144 3.048780487804878 2.9673469387755103\n"
     ]
    }
   ],
   "source": [
    "#Code Used:\n",
    "north_df.head()\n",
    "avg1 = north_df['Busy Minutes'].mean()\n",
    "avg2 = north_df['Not Ready Minutes'].mean()\n",
    "avg3 = north_df['Incoming Wait Time'].mean()\n",
    "avg4 = north_df['During Call Wait Time'].mean()\n",
    "print(avg1,avg2,avg3,avg4)"
   ]
  },
  {
   "cell_type": "markdown",
   "id": "3851cf3e",
   "metadata": {},
   "source": [
    "#### EDA Question 2B:  What is the average busy minutes, not ready minutes, incoming wait time, and during call wait time for the South branch? "
   ]
  },
  {
   "cell_type": "code",
   "execution_count": 46,
   "id": "a77ec152",
   "metadata": {},
   "outputs": [
    {
     "name": "stdout",
     "output_type": "stream",
     "text": [
      "10.054140127388536 1.910828025477707 3.0 3.0764331210191083\n"
     ]
    }
   ],
   "source": [
    "#Code Used:\n",
    "avg5 = south_df['Busy Minutes'].mean()\n",
    "avg6 = south_df['Not Ready Minutes'].mean()\n",
    "avg7 = south_df['Incoming Wait Time'].mean()\n",
    "avg8 = south_df['During Call Wait Time'].mean()\n",
    "print(avg5,avg6,avg7,avg8)"
   ]
  },
  {
   "cell_type": "markdown",
   "id": "75915553",
   "metadata": {},
   "source": [
    "#### EDA Question 3:  What is the number of calls taken for each time block(Both North and South combined)?"
   ]
  },
  {
   "cell_type": "code",
   "execution_count": 18,
   "id": "49566936",
   "metadata": {},
   "outputs": [
    {
     "data": {
      "text/html": [
       "<div>\n",
       "<style scoped>\n",
       "    .dataframe tbody tr th:only-of-type {\n",
       "        vertical-align: middle;\n",
       "    }\n",
       "\n",
       "    .dataframe tbody tr th {\n",
       "        vertical-align: top;\n",
       "    }\n",
       "\n",
       "    .dataframe thead th {\n",
       "        text-align: right;\n",
       "    }\n",
       "</style>\n",
       "<table border=\"1\" class=\"dataframe\">\n",
       "  <thead>\n",
       "    <tr style=\"text-align: right;\">\n",
       "      <th></th>\n",
       "      <th>Time Block</th>\n",
       "      <th>Calls</th>\n",
       "    </tr>\n",
       "  </thead>\n",
       "  <tbody>\n",
       "    <tr>\n",
       "      <th>0</th>\n",
       "      <td>10:00 AM</td>\n",
       "      <td>43</td>\n",
       "    </tr>\n",
       "    <tr>\n",
       "      <th>1</th>\n",
       "      <td>11:00 AM</td>\n",
       "      <td>25</td>\n",
       "    </tr>\n",
       "    <tr>\n",
       "      <th>2</th>\n",
       "      <td>12:00 PM</td>\n",
       "      <td>45</td>\n",
       "    </tr>\n",
       "    <tr>\n",
       "      <th>3</th>\n",
       "      <td>1:00 PM</td>\n",
       "      <td>17</td>\n",
       "    </tr>\n",
       "    <tr>\n",
       "      <th>4</th>\n",
       "      <td>2:00 PM</td>\n",
       "      <td>35</td>\n",
       "    </tr>\n",
       "    <tr>\n",
       "      <th>5</th>\n",
       "      <td>3:00 PM</td>\n",
       "      <td>30</td>\n",
       "    </tr>\n",
       "    <tr>\n",
       "      <th>6</th>\n",
       "      <td>4:00 PM</td>\n",
       "      <td>28</td>\n",
       "    </tr>\n",
       "    <tr>\n",
       "      <th>7</th>\n",
       "      <td>5:00 PM</td>\n",
       "      <td>17</td>\n",
       "    </tr>\n",
       "    <tr>\n",
       "      <th>8</th>\n",
       "      <td>9:00 AM</td>\n",
       "      <td>5</td>\n",
       "    </tr>\n",
       "  </tbody>\n",
       "</table>\n",
       "</div>"
      ],
      "text/plain": [
       "  Time Block  Calls\n",
       "0   10:00 AM     43\n",
       "1   11:00 AM     25\n",
       "2   12:00 PM     45\n",
       "3    1:00 PM     17\n",
       "4    2:00 PM     35\n",
       "5    3:00 PM     30\n",
       "6    4:00 PM     28\n",
       "7    5:00 PM     17\n",
       "8    9:00 AM      5"
      ]
     },
     "metadata": {},
     "output_type": "display_data"
    },
    {
     "data": {
      "text/html": [
       "<div>\n",
       "<style scoped>\n",
       "    .dataframe tbody tr th:only-of-type {\n",
       "        vertical-align: middle;\n",
       "    }\n",
       "\n",
       "    .dataframe tbody tr th {\n",
       "        vertical-align: top;\n",
       "    }\n",
       "\n",
       "    .dataframe thead th {\n",
       "        text-align: right;\n",
       "    }\n",
       "</style>\n",
       "<table border=\"1\" class=\"dataframe\">\n",
       "  <thead>\n",
       "    <tr style=\"text-align: right;\">\n",
       "      <th></th>\n",
       "      <th>Time Block</th>\n",
       "      <th>Calls</th>\n",
       "    </tr>\n",
       "  </thead>\n",
       "  <tbody>\n",
       "    <tr>\n",
       "      <th>0</th>\n",
       "      <td>10:00 AM</td>\n",
       "      <td>56</td>\n",
       "    </tr>\n",
       "    <tr>\n",
       "      <th>1</th>\n",
       "      <td>11:00 AM</td>\n",
       "      <td>31</td>\n",
       "    </tr>\n",
       "    <tr>\n",
       "      <th>2</th>\n",
       "      <td>12:00 PM</td>\n",
       "      <td>75</td>\n",
       "    </tr>\n",
       "    <tr>\n",
       "      <th>3</th>\n",
       "      <td>1:00 PM</td>\n",
       "      <td>23</td>\n",
       "    </tr>\n",
       "    <tr>\n",
       "      <th>4</th>\n",
       "      <td>2:00 PM</td>\n",
       "      <td>30</td>\n",
       "    </tr>\n",
       "    <tr>\n",
       "      <th>5</th>\n",
       "      <td>3:00 PM</td>\n",
       "      <td>43</td>\n",
       "    </tr>\n",
       "    <tr>\n",
       "      <th>6</th>\n",
       "      <td>4:00 PM</td>\n",
       "      <td>25</td>\n",
       "    </tr>\n",
       "    <tr>\n",
       "      <th>7</th>\n",
       "      <td>5:00 PM</td>\n",
       "      <td>26</td>\n",
       "    </tr>\n",
       "    <tr>\n",
       "      <th>8</th>\n",
       "      <td>9:00 AM</td>\n",
       "      <td>5</td>\n",
       "    </tr>\n",
       "  </tbody>\n",
       "</table>\n",
       "</div>"
      ],
      "text/plain": [
       "  Time Block  Calls\n",
       "0   10:00 AM     56\n",
       "1   11:00 AM     31\n",
       "2   12:00 PM     75\n",
       "3    1:00 PM     23\n",
       "4    2:00 PM     30\n",
       "5    3:00 PM     43\n",
       "6    4:00 PM     25\n",
       "7    5:00 PM     26\n",
       "8    9:00 AM      5"
      ]
     },
     "metadata": {},
     "output_type": "display_data"
    }
   ],
   "source": [
    "# Code Used:\n",
    "n_df = north_df.groupby([\"Time Block\"]).Calls.sum().reset_index()\n",
    "s_df = south_df.groupby([\"Time Block\"]).Calls.sum().reset_index()\n",
    "display(n_df)\n",
    "display(s_df)"
   ]
  },
  {
   "cell_type": "markdown",
   "id": "40b1fd3f",
   "metadata": {},
   "source": [
    "##### Record your answers for the EDA section by double clicking here:\n",
    "- 1a) Reps in the North Branch = 9\n",
    "- 1b) Reps in the South Branch = 11\n",
    "\n",
    "\n",
    "- 2a) North Branch, (round to the nearest hundredth):\n",
    "> - Busy Minutes = 9.99\n",
    "> - Not Ready Minutes = 1.91\n",
    "> - Incoming Wait Time = 3.05\n",
    "> - During Call Wait Time = 2.97\n",
    "- 2b) South Branch, (round to the nearest hundredth):\n",
    "> - Busy Minutes = 10.05\n",
    "> - Not Ready Minutes = 1.91\n",
    "> - Incoming Wait Time = 3.00\n",
    "> - During Call Wait Time = 3.08\n",
    "- 3) Total Calls taken for all branches per time block:\n",
    "> - 9:00AM   = 10\n",
    "> - 10:00AM  = 99\n",
    "> - 11:00AM  = 56\n",
    "> - 12:00PM  = 120\n",
    "> - 1:00PM   = 40\n",
    "> - 2:00PM   = 65\n",
    "> - 3:00PM   = 73\n",
    "> - 4:00PM   = 53\n",
    "> - 5:00PM   = 43\n",
    "\n"
   ]
  },
  {
   "cell_type": "markdown",
   "id": "446048d3",
   "metadata": {},
   "source": [
    "<span style=\"background-color:orangered; color:orangered;\">- - - - - - - - - - - - - - - - - - - - - - - - - - - - - - - - - - - - - - - - - - - - - - - - - - - - - - - - - - - - - - - - - - - - - - - - - - - - - - - - - - - - - - - - -</span>"
   ]
  },
  {
   "cell_type": "markdown",
   "id": "366bfb19",
   "metadata": {},
   "source": [
    "## Cleaning Your Data \n",
    "Now you need to clean up the datasets. When cleaning the datasets, you may find that there isn't dirty data to clean. That is okay! Some questions you need to answer about the data sets.\n",
    "* Add additional code blocks as needed to show how you came to your conclusions. Add comments in your code blocks to help others understand your thinking. \n"
   ]
  },
  {
   "cell_type": "markdown",
   "id": "c3564d69",
   "metadata": {},
   "source": [
    "#### Cleaning Question 1:  Is there any missing data and if yes explain what you would do with the missing data and why?\n",
    "##### Record your answer by double clicking here:\n",
    "> Your Answer: No missing data was found. The total amount of non-null count in both tables matches their numbers of total entries."
   ]
  },
  {
   "cell_type": "code",
   "execution_count": 81,
   "id": "b77fb574",
   "metadata": {},
   "outputs": [
    {
     "name": "stdout",
     "output_type": "stream",
     "text": [
      "<class 'pandas.core.frame.DataFrame'>\n",
      "Int64Index: 82 entries, 0 to 81\n",
      "Data columns (total 15 columns):\n",
      " #   Column                 Non-Null Count  Dtype  \n",
      "---  ------                 --------------  -----  \n",
      " 0   Unnamed: 0             82 non-null     int64  \n",
      " 1   Branch                 82 non-null     object \n",
      " 2   Call Purpose           82 non-null     object \n",
      " 3   Time Block             82 non-null     object \n",
      " 4   Incoming or Outgoing   82 non-null     object \n",
      " 5   Queue                  82 non-null     object \n",
      " 6   Rep ID                 82 non-null     object \n",
      " 7   Sale                   82 non-null     object \n",
      " 8   Lost Call              82 non-null     int64  \n",
      " 9   Abandoned              82 non-null     int64  \n",
      " 10  Busy Minutes           82 non-null     int64  \n",
      " 11  Not Ready Minutes      82 non-null     int64  \n",
      " 12  Incoming Wait Time     82 non-null     float64\n",
      " 13  During Call Wait Time  82 non-null     int64  \n",
      " 14  Calls                  82 non-null     int64  \n",
      "dtypes: float64(1), int64(7), object(7)\n",
      "memory usage: 10.2+ KB\n",
      "<class 'pandas.core.frame.DataFrame'>\n",
      "Int64Index: 126 entries, 0 to 125\n",
      "Data columns (total 15 columns):\n",
      " #   Column                 Non-Null Count  Dtype  \n",
      "---  ------                 --------------  -----  \n",
      " 0   Unnamed: 0             126 non-null    int64  \n",
      " 1   Branch                 126 non-null    object \n",
      " 2   Call Purpose           126 non-null    object \n",
      " 3   Time Block             126 non-null    object \n",
      " 4   Incoming or Outgoing   126 non-null    object \n",
      " 5   Queue                  126 non-null    object \n",
      " 6   Rep ID                 126 non-null    object \n",
      " 7   Sale                   126 non-null    object \n",
      " 8   Lost Call              126 non-null    int64  \n",
      " 9   Abandoned              126 non-null    int64  \n",
      " 10  Busy Minutes           126 non-null    int64  \n",
      " 11  Not Ready Minutes      126 non-null    int64  \n",
      " 12  Incoming Wait Time     126 non-null    float64\n",
      " 13  During Call Wait Time  126 non-null    int64  \n",
      " 14  Calls                  126 non-null    int64  \n",
      "dtypes: float64(1), int64(7), object(7)\n",
      "memory usage: 15.8+ KB\n"
     ]
    }
   ],
   "source": [
    "# Code Used\n",
    "# Add Additional Cells as needed.\n",
    "n2_df = pd.read_csv(\"NorthCallCenter.csv\")\n",
    "s2_df = pd.read_csv(\"SouthCallCenter.csv\")\n",
    "n2_df = n2_df.dropna()\n",
    "n2_df.info()\n",
    "s2_df = s2_df.dropna()\n",
    "s2_df.info()"
   ]
  },
  {
   "cell_type": "markdown",
   "id": "dc47f020",
   "metadata": {},
   "source": [
    "#### Cleaning Question 2:  In the North data set, there are two separate \"YES\" values for a sale. Why and how did you rectify the issue?\n",
    "##### Record your answer by double clicking here:\n",
    "> Your Answer: \n",
    "(1) By using the unique method for the column \"Sale', I found a trailing space in the value of one variable from the output: array(['NO', 'YES ', 'YES'], dtype=object). \n",
    "(2) To remove the trailing space, the rstrip() method is used for the string.\n",
    "array(['NO', 'YES'], dtype=object)"
   ]
  },
  {
   "cell_type": "code",
   "execution_count": 82,
   "id": "4e0fbad6",
   "metadata": {},
   "outputs": [
    {
     "data": {
      "text/plain": [
       "array(['NO', 'YES'], dtype=object)"
      ]
     },
     "execution_count": 82,
     "metadata": {},
     "output_type": "execute_result"
    }
   ],
   "source": [
    "#Code Used\n",
    "import pandas as pd\n",
    "n2_df = pd.read_csv(\"NorthCallCenter.csv\")\n",
    "n2_df['Sale'].unique() # Initial check on distinct data values\n",
    "n2_df['Sale'] = north_df['Sale'].str.rstrip()\n",
    "n2_df['Sale'].unique() #  Validate only 'YES' and 'NO' existing in the column after space cleanup\n",
    "# Add Additional Cells aorths needed.\n"
   ]
  },
  {
   "cell_type": "code",
   "execution_count": 7,
   "id": "62606f6c",
   "metadata": {
    "collapsed": true
   },
   "outputs": [
    {
     "ename": "SyntaxError",
     "evalue": "invalid syntax (<ipython-input-7-ae450db51b17>, line 3)",
     "output_type": "error",
     "traceback": [
      "\u001b[1;36m  File \u001b[1;32m\"<ipython-input-7-ae450db51b17>\"\u001b[1;36m, line \u001b[1;32m3\u001b[0m\n\u001b[1;33m    > Your Answer: With the use of drop_duplicates(), the dataframe will be left with unique rows.\u001b[0m\n\u001b[1;37m    ^\u001b[0m\n\u001b[1;31mSyntaxError\u001b[0m\u001b[1;31m:\u001b[0m invalid syntax\n"
     ]
    }
   ],
   "source": [
    "#### Cleaning Question 3:  Are there duplicates in the two data sets? If there are, how did you handle them?\n",
    "##### Record your answer by double clicking here:\n",
    "> Your Answer: With the use of drop_duplicates(), the dataframe will be left with unique rows."
   ]
  },
  {
   "cell_type": "code",
   "execution_count": 84,
   "id": "2323673a",
   "metadata": {
    "scrolled": true
   },
   "outputs": [
    {
     "name": "stdout",
     "output_type": "stream",
     "text": [
      "<class 'pandas.core.frame.DataFrame'>\n",
      "Int64Index: 245 entries, 0 to 244\n",
      "Data columns (total 15 columns):\n",
      " #   Column                 Non-Null Count  Dtype  \n",
      "---  ------                 --------------  -----  \n",
      " 0   Unnamed: 0             245 non-null    int64  \n",
      " 1   Branch                 245 non-null    object \n",
      " 2   Call Purpose           245 non-null    object \n",
      " 3   Time Block             245 non-null    object \n",
      " 4   Incoming or Outgoing   245 non-null    object \n",
      " 5   Queue                  245 non-null    object \n",
      " 6   Rep ID                 245 non-null    object \n",
      " 7   Sale                   245 non-null    object \n",
      " 8   Lost Call              245 non-null    int64  \n",
      " 9   Abandoned              245 non-null    int64  \n",
      " 10  Busy Minutes           245 non-null    int64  \n",
      " 11  Not Ready Minutes      245 non-null    int64  \n",
      " 12  Incoming Wait Time     82 non-null     float64\n",
      " 13  During Call Wait Time  245 non-null    int64  \n",
      " 14  Calls                  245 non-null    int64  \n",
      "dtypes: float64(1), int64(7), object(7)\n",
      "memory usage: 30.6+ KB\n",
      "<class 'pandas.core.frame.DataFrame'>\n",
      "Int64Index: 126 entries, 0 to 125\n",
      "Data columns (total 15 columns):\n",
      " #   Column                 Non-Null Count  Dtype  \n",
      "---  ------                 --------------  -----  \n",
      " 0   Unnamed: 0             126 non-null    int64  \n",
      " 1   Branch                 126 non-null    object \n",
      " 2   Call Purpose           126 non-null    object \n",
      " 3   Time Block             126 non-null    object \n",
      " 4   Incoming or Outgoing   126 non-null    object \n",
      " 5   Queue                  126 non-null    object \n",
      " 6   Rep ID                 126 non-null    object \n",
      " 7   Sale                   126 non-null    object \n",
      " 8   Lost Call              126 non-null    int64  \n",
      " 9   Abandoned              126 non-null    int64  \n",
      " 10  Busy Minutes           126 non-null    int64  \n",
      " 11  Not Ready Minutes      126 non-null    int64  \n",
      " 12  Incoming Wait Time     126 non-null    float64\n",
      " 13  During Call Wait Time  126 non-null    int64  \n",
      " 14  Calls                  126 non-null    int64  \n",
      "dtypes: float64(1), int64(7), object(7)\n",
      "memory usage: 15.8+ KB\n"
     ]
    }
   ],
   "source": [
    "#Code Used\n",
    "n2_df = n2_df.drop_duplicates()\n",
    "n2_df.info()\n",
    "s2_df = s2_df.drop_duplicates()\n",
    "s2_df.info()\n",
    "# Add Additional Cells as needed."
   ]
  },
  {
   "cell_type": "markdown",
   "id": "8ffaa865",
   "metadata": {},
   "source": [
    "#### Cleaning Question 4:  Is any of the data in the two data sets unnecessary? If yes, how did you handle it?\n",
    "##### Record your answer by double clicking here:\n",
    "> Your Answer: Queue is of no use here and the column can be dropped using drop('column', axis=1, inplace=True).\n",
    "\n",
    "n2_df.drop('Queue', axis=1, inplace=True)\n",
    "Output:\n",
    "Index(['Unnamed: 0', 'Branch', 'Call Purpose', 'Time Block',\n",
    "       'Incoming or Outgoing', 'Rep ID', 'Sale', 'Lost Call', 'Abandoned',\n",
    "       'Busy Minutes', 'Not Ready Minutes', 'Incoming Wait Time',\n",
    "       'During Call Wait Time', 'Calls'],\n",
    "      dtype='object')\n",
    "s2_df.drop('Queue', axis=1, inplace=True)\n",
    "Output:\n",
    "Index(['Unnamed: 0', 'Branch', 'Call Purpose', 'Time Block',\n",
    "       'Incoming or Outgoing', 'Rep ID', 'Sale', 'Lost Call', 'Abandoned',\n",
    "       'Busy Minutes', 'Not Ready Minutes', 'Incoming Wait Time',\n",
    "       'During Call Wait Time', 'Calls'],Abandoned\n",
    "      dtype='object') "
   ]
  },
  {
   "cell_type": "code",
   "execution_count": 102,
   "id": "78b45e70",
   "metadata": {},
   "outputs": [
    {
     "data": {
      "text/plain": [
       "(314, 14)"
      ]
     },
     "execution_count": 102,
     "metadata": {},
     "output_type": "execute_result"
    }
   ],
   "source": [
    "#Code Used\n",
    "#n2_df = pd.read_csv(\"NorthCallCenter.csv\")\n",
    "#n2_df['Sale'] = n2_df['Sale'].str.rstrip()\n",
    "#n2_df['Sale'].unique()\n",
    "#s2_df = pd.read_csv(\"SouthCallCenter.csv\")\n",
    "\n",
    "#  Drop the column \"Queue\" from North Branch dataframe\n",
    "#n2_df.drop('Queue', axis=1, inplace=True)\n",
    "#  Drop the column \"Queue\" from South Branch dataframe\n",
    "#s2_df.drop('Queue', axis=1, inplace=True)\n",
    "#n2_df.columns\n",
    "#s2_df.columns\n",
    "#n2_df.shape # Output: (245, 14)\n",
    "s2_df.shape  # Output: (314. 14)\n",
    "# Add Additional Cells as needed."
   ]
  },
  {
   "cell_type": "raw",
   "id": "025299d6",
   "metadata": {},
   "source": [
    "<span style=\"background-color:orangered; color:orangered;\">- - - - - - - - - - - - - - - - - - - - - - - - - - - - - - - - - - - - - - - - - - - - - - - - - - - - - - - - - - - - - - - - - - - - - - - - - - - - - - - - - - - - - - - - -</span>"
   ]
  },
  {
   "cell_type": "markdown",
   "id": "73342a9a",
   "metadata": {},
   "source": [
    "## Data Manipulation\n",
    "Before you begin answering any questions, combine the two datasets together to create a third dataframe called df. You can use this third dataframe to compare the two call centers to company-wide trends.\n",
    "* Add additional code blocks as needed to show how you came to your conclusions. Add comments in your code blocks to help others understand your thinking. Record your answer by double clicking the below cell."
   ]
  },
  {
   "cell_type": "code",
   "execution_count": 104,
   "id": "e9705c34",
   "metadata": {},
   "outputs": [
    {
     "data": {
      "text/plain": [
       "(559, 14)"
      ]
     },
     "execution_count": 104,
     "metadata": {},
     "output_type": "execute_result"
    }
   ],
   "source": [
    "# Create dataframe for the entire company named df\n",
    "df = n2_df.append(s2_df)\n",
    "df.shape"
   ]
  },
  {
   "cell_type": "markdown",
   "id": "7e87dfd1",
   "metadata": {},
   "source": [
    "#### Manipulation Question 1:  Group by Rep ID and sum the resulting structure. Sort by calls to determine which rep in each branch has the highest number of calls.\n",
    "\n",
    "##### Record your answer by double clicking here:\n",
    "Rep with the hightest number of calls and their total calls:\n",
    "- North Branch = Brent\n",
    "- South Branch = Eric\n"
   ]
  },
  {
   "cell_type": "code",
   "execution_count": 108,
   "id": "3953f09a",
   "metadata": {},
   "outputs": [
    {
     "data": {
      "text/html": [
       "<div>\n",
       "<style scoped>\n",
       "    .dataframe tbody tr th:only-of-type {\n",
       "        vertical-align: middle;\n",
       "    }\n",
       "\n",
       "    .dataframe tbody tr th {\n",
       "        vertical-align: top;\n",
       "    }\n",
       "\n",
       "    .dataframe thead th {\n",
       "        text-align: right;\n",
       "    }\n",
       "</style>\n",
       "<table border=\"1\" class=\"dataframe\">\n",
       "  <thead>\n",
       "    <tr style=\"text-align: right;\">\n",
       "      <th></th>\n",
       "      <th></th>\n",
       "      <th>Calls</th>\n",
       "    </tr>\n",
       "    <tr>\n",
       "      <th>Rep ID</th>\n",
       "      <th>Branch</th>\n",
       "      <th></th>\n",
       "    </tr>\n",
       "  </thead>\n",
       "  <tbody>\n",
       "    <tr>\n",
       "      <th>Brent</th>\n",
       "      <th>North</th>\n",
       "      <td>37</td>\n",
       "    </tr>\n",
       "    <tr>\n",
       "      <th>Eric</th>\n",
       "      <th>South</th>\n",
       "      <td>35</td>\n",
       "    </tr>\n",
       "    <tr>\n",
       "      <th>Randy</th>\n",
       "      <th>South</th>\n",
       "      <td>33</td>\n",
       "    </tr>\n",
       "    <tr>\n",
       "      <th>Sandy</th>\n",
       "      <th>South</th>\n",
       "      <td>32</td>\n",
       "    </tr>\n",
       "    <tr>\n",
       "      <th>Helga</th>\n",
       "      <th>South</th>\n",
       "      <td>31</td>\n",
       "    </tr>\n",
       "    <tr>\n",
       "      <th>Lilly</th>\n",
       "      <th>North</th>\n",
       "      <td>30</td>\n",
       "    </tr>\n",
       "    <tr>\n",
       "      <th>Todd</th>\n",
       "      <th>North</th>\n",
       "      <td>29</td>\n",
       "    </tr>\n",
       "    <tr>\n",
       "      <th>Duke</th>\n",
       "      <th>North</th>\n",
       "      <td>29</td>\n",
       "    </tr>\n",
       "    <tr>\n",
       "      <th>George</th>\n",
       "      <th>South</th>\n",
       "      <td>29</td>\n",
       "    </tr>\n",
       "    <tr>\n",
       "      <th>Kate</th>\n",
       "      <th>South</th>\n",
       "      <td>29</td>\n",
       "    </tr>\n",
       "    <tr>\n",
       "      <th>Karl</th>\n",
       "      <th>South</th>\n",
       "      <td>28</td>\n",
       "    </tr>\n",
       "    <tr>\n",
       "      <th>Josh</th>\n",
       "      <th>South</th>\n",
       "      <td>26</td>\n",
       "    </tr>\n",
       "    <tr>\n",
       "      <th>Susan</th>\n",
       "      <th>South</th>\n",
       "      <td>26</td>\n",
       "    </tr>\n",
       "    <tr>\n",
       "      <th>Joe</th>\n",
       "      <th>North</th>\n",
       "      <td>26</td>\n",
       "    </tr>\n",
       "    <tr>\n",
       "      <th>Sharon</th>\n",
       "      <th>South</th>\n",
       "      <td>25</td>\n",
       "    </tr>\n",
       "    <tr>\n",
       "      <th>Xander</th>\n",
       "      <th>North</th>\n",
       "      <td>24</td>\n",
       "    </tr>\n",
       "    <tr>\n",
       "      <th>Cam</th>\n",
       "      <th>North</th>\n",
       "      <td>24</td>\n",
       "    </tr>\n",
       "    <tr>\n",
       "      <th>Amanda</th>\n",
       "      <th>North</th>\n",
       "      <td>23</td>\n",
       "    </tr>\n",
       "    <tr>\n",
       "      <th>Andy</th>\n",
       "      <th>North</th>\n",
       "      <td>23</td>\n",
       "    </tr>\n",
       "    <tr>\n",
       "      <th>Alice</th>\n",
       "      <th>South</th>\n",
       "      <td>20</td>\n",
       "    </tr>\n",
       "  </tbody>\n",
       "</table>\n",
       "</div>"
      ],
      "text/plain": [
       "               Calls\n",
       "Rep ID Branch       \n",
       "Brent  North      37\n",
       "Eric   South      35\n",
       "Randy  South      33\n",
       "Sandy  South      32\n",
       "Helga  South      31\n",
       "Lilly  North      30\n",
       "Todd   North      29\n",
       "Duke   North      29\n",
       "George South      29\n",
       "Kate   South      29\n",
       "Karl   South      28\n",
       "Josh   South      26\n",
       "Susan  South      26\n",
       "Joe    North      26\n",
       "Sharon South      25\n",
       "Xander North      24\n",
       "Cam    North      24\n",
       "Amanda North      23\n",
       "Andy   North      23\n",
       "Alice  South      20"
      ]
     },
     "execution_count": 108,
     "metadata": {},
     "output_type": "execute_result"
    }
   ],
   "source": [
    "# Code Used\n",
    "df.groupby(['Rep ID','Branch'])[['Calls']].sum().sort_values([\"Calls\"], ascending=False)\n",
    "\n",
    "# Add Additional Cells as needed."
   ]
  },
  {
   "cell_type": "code",
   "execution_count": null,
   "id": "48898029",
   "metadata": {},
   "outputs": [],
   "source": []
  },
  {
   "cell_type": "markdown",
   "id": "809293b9",
   "metadata": {},
   "source": [
    "#### Manipulation Question 2:  The average call abandonment rate is a KPI when it comes to determining call center efficiency. As you may recall, abandoned calls are calls where the customer hangs up due to long call times. What is the average call abandonment rate for each branch and the whole company? Do any of thes. fall out of the optimal range of 2-5%?\n",
    "##### Record your answer by double clicking here:\n",
    "Average Call Abandonment Rates (round to the nearest hundredth):\n",
    "- North Branch = 2.86%\n",
    "- South Branch = 1.27%\n",
    "- Company Wide = 1.97%\n",
    "- Do any of these fall out of the optimal range of 2-5%? NO"
   ]
  },
  {
   "cell_type": "code",
   "execution_count": 129,
   "id": "3dff7534",
   "metadata": {},
   "outputs": [
    {
     "name": "stdout",
     "output_type": "stream",
     "text": [
      "        Abandoned\n",
      "Branch           \n",
      "North    0.028571\n",
      "South    0.012739\n",
      "Company Wide:  Abandoned    0.019678\n",
      "dtype: float64\n"
     ]
    }
   ],
   "source": [
    "# Code Used\n",
    "# Calculate the average Abandoned rate for North Branch and South Branch \n",
    "print(df.groupby('Branch')[['Abandoned']].mean())\n",
    "\n",
    "# Calculate the average Abandoned rate for the whole company\n",
    "print(\"Company Wide: \" , df[['Abandoned']].mean())\n",
    "\n",
    "# Add Additional Cells as needed."
   ]
  },
  {
   "cell_type": "markdown",
   "id": "598bb1bf",
   "metadata": {},
   "source": [
    "#### Manipulation Question 3:  Service level is another KPI when it comes to measuring call center efficiency. Service level is the percentage of calls answered within a specific number of seconds. In the case of your employer, their ideal time frame is 2 seconds. What is the percentage of calls answered within 2 seconds for each branch and the entire company?\n",
    "##### Record your answer by double clicking here:\n",
    "Percentage of calls answered within 2 seconds, include # of calls:\n",
    "- North Branch = \n",
    "- South Branch = \n",
    "- Company Wide = "
   ]
  },
  {
   "cell_type": "code",
   "execution_count": 131,
   "id": "2fc8f669",
   "metadata": {},
   "outputs": [
    {
     "name": "stdout",
     "output_type": "stream",
     "text": [
      "<class 'pandas.core.frame.DataFrame'>\n",
      "RangeIndex: 314 entries, 0 to 313\n",
      "Data columns (total 14 columns):\n",
      " #   Column                 Non-Null Count  Dtype  \n",
      "---  ------                 --------------  -----  \n",
      " 0   Unnamed: 0             314 non-null    int64  \n",
      " 1   Branch                 314 non-null    object \n",
      " 2   Call Purpose           314 non-null    object \n",
      " 3   Time Block             314 non-null    object \n",
      " 4   Incoming or Outgoing   314 non-null    object \n",
      " 5   Rep ID                 314 non-null    object \n",
      " 6   Sale                   314 non-null    object \n",
      " 7   Lost Call              314 non-null    int64  \n",
      " 8   Abandoned              314 non-null    int64  \n",
      " 9   Busy Minutes           314 non-null    int64  \n",
      " 10  Not Ready Minutes      314 non-null    int64  \n",
      " 11  Incoming Wait Time     126 non-null    float64\n",
      " 12  During Call Wait Time  314 non-null    int64  \n",
      " 13  Calls                  314 non-null    int64  \n",
      "dtypes: float64(1), int64(7), object(6)\n",
      "memory usage: 34.5+ KB\n",
      "        Incoming Wait Time\n",
      "Branch                    \n",
      "North              3.04878\n",
      "South              3.00000\n"
     ]
    }
   ],
   "source": [
    "# Code Used\n",
    "s2_df.info()\n",
    "# Calculate the percentage of calls answered within 2 seconds\n",
    "print(df.groupby('Branch')[['Incoming Wait Time']].mean())\n",
    "#'Incoming Wait Time'\n",
    "# Add Additional Cells as needed."
   ]
  },
  {
   "cell_type": "markdown",
   "id": "7e19e705",
   "metadata": {},
   "source": [
    "#### Manipulation Question 4: For each branch and the entire company, what is the average speed of answer?\n",
    "##### Record your answer by double clicking here:\n",
    "Average speed of answer (rounded to nearest hundredth):\n",
    "- North Branch in seconds = \n",
    "- South Branch in seconds = \n",
    "- Company Wide in seconds = \n"
   ]
  },
  {
   "cell_type": "code",
   "execution_count": null,
   "id": "72a653ed",
   "metadata": {},
   "outputs": [],
   "source": [
    "# Code Used \n"
   ]
  },
  {
   "cell_type": "markdown",
   "id": "ba3ca2cd",
   "metadata": {},
   "source": [
    "<span style=\"background-color:orangered; color:orangered;\">- - - - - - - - - - - - - - - - - - - - - - - - - - - - - - - - - - - - - - - - - - - - - - - - - - - - - - - - - - - - - - - - - - - - - - - - - - - - - - - - - - - - - - - - -</span>"
   ]
  },
  {
   "cell_type": "markdown",
   "id": "d5f50a40",
   "metadata": {},
   "source": [
    "## Visualization\n",
    "\n",
    "Create a visualization for each of the following questions. Some of the code to handle aggregating and storing data may be written for you. For each visualization, you choose the chart style that you feel suits the situation best. Make note of the chart style you chose and why. \n",
    "\n",
    "*NOTE Some questions you may decide to use more than one chart and or chart style."
   ]
  },
  {
   "cell_type": "markdown",
   "id": "66ccf83c",
   "metadata": {},
   "source": [
    "#### Visualization 1:  What is the average abandonment rate per queue?\n",
    "##### Record your answer by double clicking here:\n",
    "\n",
    "> Chart style you chose and why: "
   ]
  },
  {
   "cell_type": "code",
   "execution_count": null,
   "id": "c971d779",
   "metadata": {},
   "outputs": [],
   "source": [
    "# Create visualization 1 here\n",
    "# Import any additional libraries needed with alias\n",
    "\n",
    "\n",
    "\n",
    "# The dictionary abandonment_rates has the data you need.\n",
    "abandonment_rates = {}\n",
    "queues = [\"A\", \"B\", \"C\", \"D\"]\n",
    "queue_dict = df.groupby(\"Queue\").agg(\"sum\")\n",
    "for i in range(4):\n",
    "    abandonment_rates[queues[i]] = queue_dict[\"Abandoned\"][i] / queue_dict[\"Calls\"][i] \n",
    "\n",
    "#Your Code Here:\n",
    "\n",
    "\n"
   ]
  },
  {
   "cell_type": "markdown",
   "id": "4a9fc77f",
   "metadata": {},
   "source": [
    "#### Visualization 2: What is the service level percentage and average speed of answer for each rep in the North Branch?\n",
    "##### Record your answer by double clicking here:\n",
    "\n",
    "> Chart style you chose and why: "
   ]
  },
  {
   "cell_type": "code",
   "execution_count": null,
   "id": "61f65a7f",
   "metadata": {},
   "outputs": [],
   "source": [
    "# Create visualization 2 here\n",
    "# north_plt contains the data you need for the average speed of answer of each rep\n",
    "\n",
    "north_plt = north.groupby(\"Rep ID\")[\"Incoming Wait Time\"].mean().to_frame().reset_index()\n",
    "\n",
    "# Finding each Rep's Personal Service Level Percentage.  Basically, Calls within 2 secs / total calls\n",
    "\n",
    "# Table 1: Total Incoming calls less than 2 seconds grouped by Rep\n",
    "quick_calls = north[north[\"Incoming Wait Time\"] <= 2.0]\n",
    "quick_reps = quick_calls[[\"Rep ID\", \"Calls\"]]\n",
    "quick_stats = quick_reps.groupby([\"Rep ID\"]).sum()  # Final Table\n",
    "\n",
    "\n",
    "# Table 2: Total Incoming Calls Only grouped by Rep\n",
    "total_calls_in = north[north[\"Incoming or Outgoing\"] == \"Incoming\"]\n",
    "rep_calls = total_calls_in[[\"Rep ID\", \"Calls\"]]     \n",
    "total_stats = rep_calls.groupby([\"Rep ID\"]).sum() # Final Table  \n",
    "\n",
    "#  Table 3: Service Level Percentage created via merge\n",
    "service_level = pd.merge(quick_stats, total_stats, on=\"Rep ID\")\n",
    "\n",
    "# Create Percentage Column in Table 3\n",
    "service_level[\"Service Level %\"] = service_level[\"Calls_x\"]/service_level[\"Calls_y\"] * 100\n",
    "\n",
    "#Your Code Here:\n"
   ]
  },
  {
   "cell_type": "markdown",
   "id": "f965e41a",
   "metadata": {},
   "source": [
    "#### Visualization 3: For each type of call purpose, how many calls are outgoing vs. incoming?\n",
    "##### Record your answer by double clicking here:\n",
    "\n",
    "> Chart style you chose and why: "
   ]
  },
  {
   "cell_type": "code",
   "execution_count": null,
   "id": "44096730",
   "metadata": {},
   "outputs": [],
   "source": [
    "# Create visualization 3 here:\n",
    "# The three dictionaries, complaints, sales_support, and product_support, have the information you need\n",
    "\n",
    "purpose_group = df.groupby(\"Call Purpose\")\n",
    "call_purpose = [\"Complaint\", \"Product Support\", \"Sales Support\"]\n",
    "purpose_counts = purpose_group[\"Incoming or Outgoing\"].value_counts()\n",
    "print(purpose_counts)\n",
    "\n",
    "complaints = purpose_counts[\"Complaint\"].to_dict()\n",
    "sales_support = purpose_counts[\"Sales Support\"].to_dict()\n",
    "product_support = purpose_counts[\"Product Support\"].to_dict()\n",
    "\n",
    "#Your Code Here:\n"
   ]
  },
  {
   "cell_type": "markdown",
   "id": "4f20fc43",
   "metadata": {},
   "source": [
    "<span style=\"background-color:orangered; color:orangered;\">- - - - - - - - - - - - - - - - - - - - - - - - - - - - - - - - - - - - - - - - - - - - - - - - - - - - - - - - - - - - - - - - - - - - - - - - - - - - - - - - - - - - - - - - -</span>"
   ]
  },
  {
   "cell_type": "markdown",
   "id": "ea7ed568",
   "metadata": {},
   "source": [
    "## Summarize Your Work\n",
    "\n",
    "With what you know now about the two call centers and the entire company, answer the following questions. Note that while this is subjective, you should include relevant data to back up your opinion.\n"
   ]
  },
  {
   "cell_type": "markdown",
   "id": "d2fc3d13",
   "metadata": {},
   "source": [
    "#### Summary Question 1:  Using KPIs such as average abandonment rate, service level and average speed of answer, in your opinion, which one of the two branches is operating more efficiently? Why?\n",
    "\n",
    "##### Record your answer by double clicking here:\n",
    "> Your Answer: \n",
    "\n"
   ]
  },
  {
   "cell_type": "markdown",
   "id": "489f28d6",
   "metadata": {},
   "source": [
    "#### Summary Question 2: Based on the number of reps in each branch and how quickly the reps are working, in your opinion, which branch would benefit from the extra help?\n",
    "\n",
    "##### Record your answer by double clicking here:\n",
    "> Your Answer: \n"
   ]
  },
  {
   "cell_type": "markdown",
   "id": "0b10a8c3",
   "metadata": {},
   "source": [
    "#### Summary Question 3: Now that you have explored the datasets, is there any data or information that you wish you had in this analysis?\n",
    "\n",
    "##### Record your answer by double clicking here:\n",
    "> Your Answer: \n"
   ]
  },
  {
   "cell_type": "markdown",
   "id": "e9ee1033",
   "metadata": {},
   "source": [
    "<span style=\"background-color:orangered; color:orangered;\">- - - - - - - - - - - - - - - - - - - - - - - - - - - - - - - - - - - - - - - - - - - - - - - - - - - - - - - - - - - - - - - - - - - - - - - - - - - - - - - - - - - - - - - - -</span>"
   ]
  },
  {
   "cell_type": "markdown",
   "id": "ce16f43d",
   "metadata": {},
   "source": [
    "## Bonus Mission\n",
    "Create a visualization that answers this question: For each call purpose, how many calls (incoming and outgoing) take place in each time block?\n",
    "##### Record your answer by double clicking here:\n",
    "\n",
    "> Chart style you chose and why: "
   ]
  },
  {
   "cell_type": "code",
   "execution_count": null,
   "id": "71b04f32",
   "metadata": {},
   "outputs": [],
   "source": [
    "# Create your Bonus Mission visualization here!\n",
    "call_times = df[[\"Time Block\", \"Call Purpose\", \"Incoming or Outgoing\", \"Calls\"]]\n",
    "\n",
    "# Use groupby to plot based on time blocks:\n",
    "\n",
    "# Use groupby and get_group to select which call purpose to plot:"
   ]
  }
 ],
 "metadata": {
  "kernelspec": {
   "display_name": "Python 3",
   "language": "python",
   "name": "python3"
  },
  "language_info": {
   "codemirror_mode": {
    "name": "ipython",
    "version": 3
   },
   "file_extension": ".py",
   "mimetype": "text/x-python",
   "name": "python",
   "nbconvert_exporter": "python",
   "pygments_lexer": "ipython3",
   "version": "3.8.8"
  }
 },
 "nbformat": 4,
 "nbformat_minor": 5
}
